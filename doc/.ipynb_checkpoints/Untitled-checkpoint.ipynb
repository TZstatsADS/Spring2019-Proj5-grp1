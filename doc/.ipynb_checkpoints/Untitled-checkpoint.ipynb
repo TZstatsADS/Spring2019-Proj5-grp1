{
 "cells": [
  {
   "cell_type": "code",
   "execution_count": 7,
   "metadata": {},
   "outputs": [],
   "source": [
    "# VGA\n",
    "from keras.applications.vgg16 import VGG16\n",
    "from keras.preprocessing import image\n",
    "from keras.applications.vgg16 import preprocess_input\n",
    "from EmoPy.src.csv_data_loader import CSVDataLoader\n",
    "from EmoPy.src.data_generator import DataGenerator\n",
    "import numpy as np"
   ]
  },
  {
   "cell_type": "code",
   "execution_count": 2,
   "metadata": {},
   "outputs": [
    {
     "name": "stdout",
     "output_type": "stream",
     "text": [
      "Downloading data from https://github.com/fchollet/deep-learning-models/releases/download/v0.1/vgg16_weights_tf_dim_ordering_tf_kernels_notop.h5\n",
      "58892288/58889256 [==============================] - 7s 0us/step\n"
     ]
    }
   ],
   "source": [
    "model = VGG16(weights='imagenet', include_top=False)"
   ]
  },
  {
   "cell_type": "code",
   "execution_count": 8,
   "metadata": {},
   "outputs": [
    {
     "name": "stdout",
     "output_type": "stream",
     "text": [
      "Extracting training data from csv...\n",
      "\n",
      "DATASET DETAILS\n",
      "35887 image samples\n",
      "28709 training samples\n",
      "7178 test samples\n",
      "\n",
      "Preparing training/testing data...\n",
      "X done\n"
     ]
    }
   ],
   "source": [
    "raw_dimensions = (48, 48)\n",
    "target_dimensions = (64, 64)\n",
    "verbose = True\n",
    "\n",
    "emotion_map = {'0':'Angry',\n",
    "              '1':'Disgust',\n",
    "              '2':'Fear',\n",
    "              '3':'Happy',\n",
    "              '4':'Sad',\n",
    "              '5':'Surprise',\n",
    "              '6':'Neutral'}\n",
    "data_loader = CSVDataLoader(emotion_map, datapath='../data/fer2013.csv',\n",
    "                            image_dimensions=raw_dimensions, \n",
    "                            csv_label_col=0, csv_image_col=1, out_channels=3)\n",
    "\n",
    "dataset = data_loader.load_data()\n",
    "\n",
    "if verbose:\n",
    "    dataset.print_data_details()\n",
    "\n",
    "print('Preparing training/testing data...')\n",
    "train_images, train_labels = dataset.get_training_data()\n",
    "train_gen = DataGenerator().fit(train_images, train_labels)\n",
    "test_images, test_labels = dataset.get_test_data()\n",
    "test_gen = DataGenerator().fit(test_images, test_labels)\n",
    "print(\"X done\")"
   ]
  },
  {
   "cell_type": "code",
   "execution_count": 10,
   "metadata": {},
   "outputs": [],
   "source": [
    "features = model.predict(train_images)"
   ]
  },
  {
   "cell_type": "code",
   "execution_count": 64,
   "metadata": {},
   "outputs": [],
   "source": [
    "test_features = model.predict(test_images)"
   ]
  },
  {
   "cell_type": "code",
   "execution_count": 14,
   "metadata": {},
   "outputs": [
    {
     "data": {
      "text/plain": [
       "(28709, 7)"
      ]
     },
     "execution_count": 14,
     "metadata": {},
     "output_type": "execute_result"
    }
   ],
   "source": [
    "train_labels.shape"
   ]
  },
  {
   "cell_type": "code",
   "execution_count": 55,
   "metadata": {},
   "outputs": [],
   "source": [
    "def transferLabel(raw_label):\n",
    "    if len(raw_label) == 0:\n",
    "        return -1\n",
    "    label = []\n",
    "    for each in raw_label:\n",
    "        label.append(np.where(each == 1)[0][0])\n",
    "    return np.array(label)\n",
    "\n",
    "def transferX(raw_X):\n",
    "    X = raw_X[0][0][0]\n",
    "    for each in raw_X[1:]:\n",
    "        X = np.vstack((X, each[0][0]))\n",
    "    return X"
   ]
  },
  {
   "cell_type": "code",
   "execution_count": 58,
   "metadata": {},
   "outputs": [],
   "source": [
    "Xnew = transferX(features)"
   ]
  },
  {
   "cell_type": "code",
   "execution_count": 59,
   "metadata": {},
   "outputs": [],
   "source": [
    "ynew = transferLabel(train_labels)"
   ]
  },
  {
   "cell_type": "code",
   "execution_count": 65,
   "metadata": {},
   "outputs": [],
   "source": [
    "from sklearn.svm import SVC\n",
    "from sklearn.metrics import confusion_matrix"
   ]
  },
  {
   "cell_type": "code",
   "execution_count": 63,
   "metadata": {},
   "outputs": [
    {
     "data": {
      "text/plain": [
       "SVC(C=1.0, cache_size=200, class_weight=None, coef0=0.0,\n",
       "  decision_function_shape='ovr', degree=3, gamma='auto', kernel='rbf',\n",
       "  max_iter=-1, probability=False, random_state=None, shrinking=True,\n",
       "  tol=0.001, verbose=False)"
      ]
     },
     "execution_count": 63,
     "metadata": {},
     "output_type": "execute_result"
    }
   ],
   "source": [
    "# # train model!\n",
    "# clf = SVC(gamma='auto')\n",
    "# clf.fit(Xnew, ynew)"
   ]
  },
  {
   "cell_type": "code",
   "execution_count": 66,
   "metadata": {},
   "outputs": [],
   "source": [
    "test_Xnew = transferX(test_features)\n",
    "test_ynew = transferLabel(test_labels)"
   ]
  },
  {
   "cell_type": "code",
   "execution_count": 67,
   "metadata": {},
   "outputs": [],
   "source": [
    "test_predy = clf.predict(test_Xnew)"
   ]
  },
  {
   "cell_type": "code",
   "execution_count": 94,
   "metadata": {},
   "outputs": [],
   "source": [
    "cm = confusion_matrix(test_ynew, test_predy)"
   ]
  },
  {
   "cell_type": "code",
   "execution_count": 95,
   "metadata": {},
   "outputs": [
    {
     "data": {
      "text/plain": [
       "0.3187517414321538"
      ]
     },
     "execution_count": 95,
     "metadata": {},
     "output_type": "execute_result"
    }
   ],
   "source": [
    "# acc of SVM \n",
    "sum(np.diag(cm))/np.sum(cm)"
   ]
  },
  {
   "cell_type": "code",
   "execution_count": 93,
   "metadata": {},
   "outputs": [
    {
     "data": {
      "text/plain": [
       "RandomForestClassifier(bootstrap=True, class_weight=None, criterion='gini',\n",
       "            max_depth=8, max_features='auto', max_leaf_nodes=None,\n",
       "            min_impurity_decrease=0.0, min_impurity_split=None,\n",
       "            min_samples_leaf=1, min_samples_split=2,\n",
       "            min_weight_fraction_leaf=0.0, n_estimators=300, n_jobs=1,\n",
       "            oob_score=False, random_state=0, verbose=0, warm_start=False)"
      ]
     },
     "execution_count": 93,
     "metadata": {},
     "output_type": "execute_result"
    }
   ],
   "source": [
    "from sklearn.ensemble import RandomForestClassifier\n",
    "rf_clf = RandomForestClassifier(n_estimators=300, max_depth=8, random_state=0)\n",
    "rf_clf.fit(Xnew, ynew)"
   ]
  },
  {
   "cell_type": "code",
   "execution_count": 91,
   "metadata": {},
   "outputs": [],
   "source": [
    "cm = confusion_matrix(rf_clf.predict(test_Xnew), test_ynew)"
   ]
  },
  {
   "cell_type": "code",
   "execution_count": 92,
   "metadata": {},
   "outputs": [
    {
     "data": {
      "text/plain": [
       "0.3148509334076344"
      ]
     },
     "execution_count": 92,
     "metadata": {},
     "output_type": "execute_result"
    }
   ],
   "source": [
    "sum(np.diag(cm))/np.sum(cm)"
   ]
  },
  {
   "cell_type": "code",
   "execution_count": null,
   "metadata": {},
   "outputs": [],
   "source": []
  }
 ],
 "metadata": {
  "kernelspec": {
   "display_name": "Python 3",
   "language": "python",
   "name": "python3"
  },
  "language_info": {
   "codemirror_mode": {
    "name": "ipython",
    "version": 3
   },
   "file_extension": ".py",
   "mimetype": "text/x-python",
   "name": "python",
   "nbconvert_exporter": "python",
   "pygments_lexer": "ipython3",
   "version": "3.6.5"
  }
 },
 "nbformat": 4,
 "nbformat_minor": 2
}
